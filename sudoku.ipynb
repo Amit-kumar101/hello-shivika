{
  "nbformat": 4,
  "nbformat_minor": 0,
  "metadata": {
    "colab": {
      "provenance": [],
      "authorship_tag": "ABX9TyP4oBfCJ0kJGrQxgN1cLIfZ",
      "include_colab_link": true
    },
    "kernelspec": {
      "name": "python3",
      "display_name": "Python 3"
    },
    "language_info": {
      "name": "python"
    }
  },
  "cells": [
    {
      "cell_type": "markdown",
      "metadata": {
        "id": "view-in-github",
        "colab_type": "text"
      },
      "source": [
        "<a href=\"https://colab.research.google.com/github/Amit-kumar101/hello-shivika/blob/master/sudoku.ipynb\" target=\"_parent\"><img src=\"https://colab.research.google.com/assets/colab-badge.svg\" alt=\"Open In Colab\"/></a>"
      ]
    },
    {
      "cell_type": "code",
      "execution_count": 38,
      "metadata": {
        "id": "NZsJEwObmBHm"
      },
      "outputs": [],
      "source": [
        "import numpy as np"
      ]
    },
    {
      "cell_type": "code",
      "source": [
        "grid=[[7,8,0,4,0,0,1,2,0],\n",
        "      [6,0,0,0,7,5,0,0,9],\n",
        "      [0,0,0,6,0,1,0,7,8],\n",
        "      [0,0,7,0,4,0,2,6,0],\n",
        "      [0,0,1,0,5,0,9,3,0],\n",
        "      [9,0,4,0,6,0,0,0,5],\n",
        "      [0,7,0,3,0,0,0,1,2],\n",
        "      [1,2,0,0,0,7,4,0,0],\n",
        "      [0,4,9,2,0,6,0,0,7]]"
      ],
      "metadata": {
        "id": "EzOQ1HNRm3eO"
      },
      "execution_count": 39,
      "outputs": []
    },
    {
      "cell_type": "code",
      "source": [
        "def print_grid(grid):\n",
        "    for i in range(len(grid)):\n",
        "      if i % 3 == 0 and i!=0:\n",
        "        print(\"- - - - - - - - - - - -\")\n",
        "      for j in range(len(grid[0])):\n",
        "          if j % 3 == 0 and j != 0:\n",
        "            print(\" | \", end=\"\")\n",
        "          if j == 8:\n",
        "            print(grid[i][j])\n",
        "          else:\n",
        "            print(str(grid[i][j]) + \" \",end=\"\")"
      ],
      "metadata": {
        "id": "Mk4KQpIDo3LI"
      },
      "execution_count": 40,
      "outputs": []
    },
    {
      "cell_type": "code",
      "source": [
        "def find_empty(grid):\n",
        "  for i in range(len(grid)):\n",
        "    for j in range (len(grid[0])):\n",
        "      if grid[i][j]==0:\n",
        "        return (i, j)\n",
        "\n",
        "  return False"
      ],
      "metadata": {
        "id": "pGjmrvFLxlc9"
      },
      "execution_count": 41,
      "outputs": []
    },
    {
      "cell_type": "code",
      "source": [
        "def valid(grid,num,pos):\n",
        "  # check Row\n",
        "  for i in range(len(grid[0])):\n",
        "    if grid[pos[0]][i]==num and pos[1] != i:\n",
        "      return False\n",
        "\n",
        "  #check Column\n",
        "  for i in range(len(grid)):\n",
        "    if grid[i][pos[1]]==num and pos[0] != i:\n",
        "      return False\n",
        "\n",
        "  # check box\n",
        "  box_x=pos[1]//3\n",
        "  box_y=pos[0]//3\n",
        "  for i in range(box_y*3,box_y*3 + 3):\n",
        "    for j in range(box_x*3,box_x*3 + 3):\n",
        "      if grid[i][j]==num and (i,j)!=pos:\n",
        "        return False\n",
        "\n",
        "  return True\n",
        "\n",
        ""
      ],
      "metadata": {
        "id": "9ciwyVmRV3ZJ"
      },
      "execution_count": 42,
      "outputs": []
    },
    {
      "cell_type": "code",
      "source": [
        "def solve(grid):\n",
        "  #print_grid(grid)\n",
        "  find = find_empty(grid)\n",
        "  if not find:\n",
        "    return True\n",
        "  else:\n",
        "    row,col = find\n",
        "\n",
        "  for i in range(1,10):\n",
        "    if valid(grid,i,(row,col)):\n",
        "      grid[row][col]=i\n",
        "\n",
        "      if solve(grid):\n",
        "        return True\n",
        "\n",
        "      grid[row][col]=0\n",
        "\n",
        "  return False\n"
      ],
      "metadata": {
        "id": "wOmRg883e5Zc"
      },
      "execution_count": 43,
      "outputs": []
    },
    {
      "cell_type": "code",
      "source": [
        "print_grid(grid)\n",
        "solve(grid)\n",
        "print(\" \\n------------------------\\n\")\n",
        "print_grid(grid)"
      ],
      "metadata": {
        "colab": {
          "base_uri": "https://localhost:8080/"
        },
        "id": "gx9hi49Hi8Ek",
        "outputId": "a0ab591d-d76a-4988-9a5d-8c36cba6c589"
      },
      "execution_count": 44,
      "outputs": [
        {
          "output_type": "stream",
          "name": "stdout",
          "text": [
            "7 8 0  | 4 0 0  | 1 2 0\n",
            "6 0 0  | 0 7 5  | 0 0 9\n",
            "0 0 0  | 6 0 1  | 0 7 8\n",
            "- - - - - - - - - - - -\n",
            "0 0 7  | 0 4 0  | 2 6 0\n",
            "0 0 1  | 0 5 0  | 9 3 0\n",
            "9 0 4  | 0 6 0  | 0 0 5\n",
            "- - - - - - - - - - - -\n",
            "0 7 0  | 3 0 0  | 0 1 2\n",
            "1 2 0  | 0 0 7  | 4 0 0\n",
            "0 4 9  | 2 0 6  | 0 0 7\n",
            " \n",
            "------------------------\n",
            "\n",
            "7 8 5  | 4 3 9  | 1 2 6\n",
            "6 1 2  | 8 7 5  | 3 4 9\n",
            "4 9 3  | 6 2 1  | 5 7 8\n",
            "- - - - - - - - - - - -\n",
            "8 5 7  | 9 4 3  | 2 6 1\n",
            "2 6 1  | 7 5 8  | 9 3 4\n",
            "9 3 4  | 1 6 2  | 7 8 5\n",
            "- - - - - - - - - - - -\n",
            "5 7 8  | 3 9 4  | 6 1 2\n",
            "1 2 6  | 5 8 7  | 4 9 3\n",
            "3 4 9  | 2 1 6  | 8 5 7\n"
          ]
        }
      ]
    }
  ]
}